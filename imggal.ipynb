{
 "cells": [
  {
   "cell_type": "code",
   "execution_count": 1,
   "metadata": {},
   "outputs": [],
   "source": [
    "from PIL import Image \n",
    "from PyQt5 import QtWidgets,uic"
   ]
  },
  {
   "cell_type": "code",
   "execution_count": null,
   "metadata": {},
   "outputs": [],
   "source": [
    "\n",
    "def gmt():\n",
    "    a=div.l1.text()\n",
    "    try: \n",
    "        image = Image.open(a)  \n",
    "        image.show()\n",
    "        div.err.setText('Image Info : \\n\\n'+\"Format : \"+str(image.format)+'\\n'+'Mode : '+str(image.mode)+'\\n'+'Size : '+str(image.size)+'\\n'+'Paleette'+str(image.palette))\n",
    "    except IOError: \n",
    "        div.err.setText('Either Image not exist or Path is Incorrect')\n",
    "  \n",
    "    \n",
    "app=QtWidgets.QApplication([])\n",
    "div=uic.loadUi('imggal.ui')\n",
    "div.b1.clicked.connect(gmt)\n",
    "div.show()\n",
    "app.exec()\n"
   ]
  },
  {
   "cell_type": "code",
   "execution_count": null,
   "metadata": {},
   "outputs": [],
   "source": []
  }
 ],
 "metadata": {
  "kernelspec": {
   "display_name": "Python 3",
   "language": "python",
   "name": "python3"
  },
  "language_info": {
   "codemirror_mode": {
    "name": "ipython",
    "version": 3
   },
   "file_extension": ".py",
   "mimetype": "text/x-python",
   "name": "python",
   "nbconvert_exporter": "python",
   "pygments_lexer": "ipython3",
   "version": "3.6.8"
  }
 },
 "nbformat": 4,
 "nbformat_minor": 2
}
